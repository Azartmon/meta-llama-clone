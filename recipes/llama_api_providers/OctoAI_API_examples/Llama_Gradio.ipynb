{
 "cells": [
  {
   "cell_type": "markdown",
   "id": "47a9adb3",
   "metadata": {},
   "source": [
    "## This demo app shows how to query Llama 2 using the Gradio UI.\n",
    "\n",
    "Open this notebook in <a href=\"https://colab.research.google.com/github/meta-llama/llama-recipes/blob/main/recipes/llama_api_providers/OctoAI_API_examples/Llama_Gradio.ipynb\"><img data-canonical-src=\"https://colab.research.google.com/assets/colab-badge.svg\" alt=\"Open In Colab\" src=\"https://camo.githubusercontent.com/f5e0d0538a9c2972b5d413e0ace04cecd8efd828d133133933dfffec282a4e1b/68747470733a2f2f636f6c61622e72657365617263682e676f6f676c652e636f6d2f6173736574732f636f6c61622d62616467652e737667\"></a>\n",
    "\n",
    "Since we are using OctoAI in this example, you'll need to obtain an OctoAI token:\n",
    "\n",
    "- You will need to first sign into [OctoAI](https://octoai.cloud/) with your Github or Google account\n",
    "- Then create a free API token [here](https://octo.ai/docs/getting-started/how-to-create-an-octoai-access-token) that you can use for a while (a month or $10 in OctoAI credits, whichever one runs out first)\n",
    "\n",
    "**Note** After the free trial ends, you will need to enter billing info to continue to use Llama2 hosted on OctoAI.\n",
    "\n",
    "To run this example:\n",
    "- Run the notebook\n",
    "- Set up your OCTOAI API token and enter it when prompted\n",
    "- Enter your question and click Submit\n",
    "\n",
    "In the notebook or a browser with URL http://127.0.0.1:7860 you should see a UI with your answer.\n",
    "\n",
    "Let's start by installing the necessary packages:\n",
    "- langchain provides necessary RAG tools for this demo\n",
    "- octoai-sdk allows us to use OctoAI Llama 2 endpoint\n",
    "- gradio is used for the UI elements\n",
    "\n",
    "And setting up the OctoAI token."
   ]
  },
  {
   "cell_type": "code",
   "execution_count": null,
   "id": "6ae4f858-6ef7-49d9-b45b-1ef79d0217a0",
   "metadata": {},
   "outputs": [],
   "source": [
    "# !pip install octoai-sdk gradio "
   ]
  },
  {
   "cell_type": "code",
   "execution_count": null,
   "id": "3306c11d-ed82-41c5-a381-15fb5c07d307",
   "metadata": {},
   "outputs": [],
   "source": [
    "from getpass import getpass\n",
    "import os\n",
    "\n",
    "OCTOAI_API_TOKEN = getpass()\n",
    "os.environ[\"OCTOAI_TOKEN\"] = OCTOAI_API_TOKEN"
   ]
  },
  {
   "cell_type": "code",
   "execution_count": null,
   "id": "2d4d4590-adb7-4954-9707-3878e3d374e6",
   "metadata": {},
   "outputs": [],
   "source": [
    "import json\n",
    "\n",
    "import octoai\n",
    "from octoai.chat import TextModel\n",
    "from octoai.client import Client\n",
    "\n",
    "client = Client()"
   ]
  },
  {
   "cell_type": "code",
   "execution_count": null,
   "id": "05d4c67a-ecd8-4870-a9fd-be916e0b0244",
   "metadata": {},
   "outputs": [],
   "source": [
    "import gradio as gr\n",
    "\n",
    "def chat(message, history):\n",
    "    \n",
    "    history_octoai_format = [\n",
    "        {\n",
    "          \"role\": \"system\",\n",
    "          \"content\": \"Below is an instruction that describes a task. Write a response that appropriately completes the request.\",\n",
    "        },\n",
    "    ]\n",
    "    for human, ai in history:\n",
    "        history_octoai_format.append({\"role\": \"user\", \"content\": human})\n",
    "        history_octoai_format.append({\"role\": \"assistant\", \"content\": ai})\n",
    "    history_octoai_format.append({\"role\": \"user\", \"content\": message})\n",
    "    completion = client.chat.completions.create(\n",
    "        model=\"meta-llama-3-8b-instruct\",\n",
    "        messages=history_octoai_format,\n",
    "        max_tokens=300,\n",
    "    )\n",
    "    return completion.choices[0].message.content\n",
    "\n",
    "gr.ChatInterface(chat).launch(debug=True)"
   ]
  }
 ],
 "metadata": {
  "jupytext": {
   "formats": "ipynb,py:light"
  },
  "kernelspec": {
   "display_name": "Python 3 (ipykernel)",
   "language": "python",
   "name": "python3"
  },
  "language_info": {
   "codemirror_mode": {
    "name": "ipython",
    "version": 3
   },
   "file_extension": ".py",
   "mimetype": "text/x-python",
   "name": "python",
   "nbconvert_exporter": "python",
   "pygments_lexer": "ipython3",
   "version": "3.10.13"
  }
 },
 "nbformat": 4,
 "nbformat_minor": 5
}
