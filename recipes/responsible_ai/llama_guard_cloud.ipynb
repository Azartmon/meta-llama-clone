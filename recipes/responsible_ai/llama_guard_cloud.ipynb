{
 "cells": [
  {
   "cell_type": "code",
   "execution_count": null,
   "metadata": {},
   "outputs": [],
   "source": [
    "# TODO REFACTOR\n",
    "# refer to: \n",
    "# - _legacy/purple_llama_anyscale.ipynb \n",
    "# - _legacy/purple_llama_octoai.ipynb"
   ]
  }
 ],
 "metadata": {
  "language_info": {
   "name": "python"
  },
  "orig_nbformat": 4
 },
 "nbformat": 4,
 "nbformat_minor": 2
}
